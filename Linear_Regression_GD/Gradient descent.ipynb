{
 "cells": [
  {
   "cell_type": "code",
   "execution_count": 82,
   "metadata": {
    "collapsed": false
   },
   "outputs": [
    {
     "name": "stdout",
     "output_type": "stream",
     "text": [
      "Θ0=1.7148437500006766\n",
      "Θ1=0.6953124999998829\n"
     ]
    }
   ],
   "source": [
    "#Francisco Tapia Vázquez\n",
    "#Machine Learning\n",
    "#UMSNH\n",
    "#Linear Regreassion using Gradient Descent\n",
    "\n",
    "\n",
    "#En esta función buscamos el mínimo valor de Θ0 y Θ1 para así minizar la funcion\n",
    "function buscarminimo(theta0,theta1,m,tol)\n",
    "    minimo=true\n",
    "    while(minimo==true)\n",
    "        temp0=theta0-(alpha/m)*suma(theta0,theta1,m)\n",
    "        temp1=theta1-(alpha/m)*suma1(theta0,theta1,m)\n",
    "        \n",
    "        if(theta0==temp0) || (theta1==temp1)\n",
    "            minimo=true    \n",
    "        else\n",
    "            theta0=temp0\n",
    "            theta1=temp1\n",
    "            minimo=false\n",
    "        end \n",
    "       \n",
    "    end\n",
    "    return theta0,theta1\n",
    "end\n",
    "\n",
    "#En esta función realizamos la suma\n",
    "function suma(theta0,theta1,m)\n",
    "    res=0\n",
    "    for i=1:m\n",
    "        res=res+theta0+theta1*X[i,1]-X[i,2]\n",
    "    end\n",
    "    return res\n",
    "end\n",
    "\n",
    "#Funcion \n",
    "function suma1(theta0,theta1,m)\n",
    "    res=0\n",
    "    for i=1:m\n",
    "        res=res+(theta0+theta1*X[i,1]-X[i,2])*X[i,1]\n",
    "    end\n",
    "    return res\n",
    "end\n",
    "\n",
    "#Parámetros y condiciones inicales\n",
    "theta0=20 #Θ0 inicial\n",
    "theta1=15 #Θ0 inicial\n",
    "alpha=0.01 #Step size\n",
    "\n",
    "#Leemos desde el archivo llamado \"datos\" donde vienen los valores y creamos un arreglo de mx2\n",
    "X = readdlm(\"datos2\") \n",
    "m=length(X[:,1])      #m es el tamaño de mi arreglo\n",
    "\n",
    "#Llamamos a la función que buscar el Θ0 y Θ1\n",
    "theta0,theta1=buscarminimo(theta0,theta1,m) \n",
    "\n",
    "#Imprimimos los resultados\n",
    "println(\"Θ0=\",theta0)\n",
    "println(\"Θ1=\",theta1)"
   ]
  },
  {
   "cell_type": "code",
   "execution_count": null,
   "metadata": {
    "collapsed": true
   },
   "outputs": [],
   "source": []
  }
 ],
 "metadata": {
  "kernelspec": {
   "display_name": "Julia 0.4.2",
   "language": "julia",
   "name": "julia-0.4"
  },
  "language_info": {
   "file_extension": ".jl",
   "mimetype": "application/julia",
   "name": "julia",
   "version": "0.4.2"
  }
 },
 "nbformat": 4,
 "nbformat_minor": 0
}
